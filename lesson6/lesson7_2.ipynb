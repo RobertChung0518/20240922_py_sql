{
 "cells": [
  {
   "cell_type": "code",
   "execution_count": 25,
   "metadata": {},
   "outputs": [
    {
     "data": {
      "text/plain": [
       "True"
      ]
     },
     "execution_count": 25,
     "metadata": {},
     "output_type": "execute_result"
    }
   ],
   "source": [
    "from dotenv import load_dotenv\n",
    "load_dotenv()"
   ]
  },
  {
   "cell_type": "code",
   "execution_count": null,
   "metadata": {},
   "outputs": [],
   "source": [
    "import psycopg2\n",
    "\n",
    "conn = psycopg2.connect(host='piRobert0301.local',database='mydatabase_a20',user='a20',password='raspberry')\n",
    "with conn:\n",
    "    with conn.cursor() as cursor:\n",
    "        sql='''\n",
    "        INSERT INTO a_market values (%s,%s)\n",
    "        ON CONFLICT DO NOTHING;\n",
    "        '''\n",
    "        cursor.execute(sql,['^HSI','香港恆生'])\n",
    "conn.close()"
   ]
  },
  {
   "cell_type": "code",
   "execution_count": null,
   "metadata": {},
   "outputs": [],
   "source": [
    "import yfinance as yf\n",
    "HSI = yf.download('^HSI')"
   ]
  },
  {
   "cell_type": "code",
   "execution_count": null,
   "metadata": {},
   "outputs": [],
   "source": [
    "all_data = HSI.to_dict(orient='index')\n",
    "for key,value in all_data.items():\n",
    "    date = key.date()\n",
    "    name = '^HSI'\n",
    "    print(date)\n",
    "    adj_close = value[('Adj Close', name)]\n",
    "    open = value[('Open', name)]\n",
    "    high = value[('High', name)]\n",
    "    low = value[('Low', name)]\n",
    "    close = value[('Close', name)]\n",
    "    volume = value[('Volume', name)]\n",
    "    print(\"=========\")"
   ]
  },
  {
   "cell_type": "code",
   "execution_count": null,
   "metadata": {},
   "outputs": [],
   "source": [
    "conn = psycopg2.connect(host='piRobert0301.local',database='mydatabase_a20',user='a20',password='raspberry')\n",
    "with conn:\n",
    "    all_data = HSI.to_dict(orient='index')\n",
    "    for key,value in all_data.items():\n",
    "        date = key.date()\n",
    "        name = '^HSI'\n",
    "        adj_close = value[('Adj Close', name)]\n",
    "        open = value[('Open', name)]\n",
    "        high = value[('High', name)]\n",
    "        low = value[('Low', name)]\n",
    "        close = value[('Close', name)]\n",
    "        volume = value[('Volume', name)]\n",
    "        with conn.cursor() as cursor:\n",
    "            sql='''\n",
    "            INSERT INTO a_stock(date,open,high,low,close,adj_close,volume,name) \n",
    "            values(%s,%s,%s,%s,%s,%s,%s,%s) ON CONFLICT DO NOTHING;\n",
    "            '''\n",
    "            cursor.execute(sql,[date,open,high,low,close,adj_close,volume,name])\n",
    "conn.close()"
   ]
  }
 ],
 "metadata": {
  "kernelspec": {
   "display_name": "1",
   "language": "python",
   "name": "python3"
  },
  "language_info": {
   "codemirror_mode": {
    "name": "ipython",
    "version": 3
   },
   "file_extension": ".py",
   "mimetype": "text/x-python",
   "name": "python",
   "nbconvert_exporter": "python",
   "pygments_lexer": "ipython3",
   "version": "3.10.15"
  }
 },
 "nbformat": 4,
 "nbformat_minor": 2
}
